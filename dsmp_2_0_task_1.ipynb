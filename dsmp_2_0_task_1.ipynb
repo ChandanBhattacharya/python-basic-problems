{
  "nbformat": 4,
  "nbformat_minor": 0,
  "metadata": {
    "colab": {
      "provenance": []
    },
    "kernelspec": {
      "name": "python3",
      "display_name": "Python 3"
    },
    "language_info": {
      "name": "python"
    }
  },
  "cells": [
    {
      "cell_type": "markdown",
      "source": [
        "Q1 :- Print the given strings as per stated format.\n",
        "Given strings:\n",
        "\n",
        "\"Data\" \"Science\" \"Mentorship\" \"Program\"\n",
        "\"By\" \"CampusX\"\n",
        "\n"
      ],
      "metadata": {
        "id": "dJ1Ec2DurgyD"
      }
    },
    {
      "cell_type": "code",
      "source": [
        "print(\"Data\",\"Science\",\"Mentorship\",\"Program\",sep=\"-\",end=\"-started-\")\n",
        "print(\"By\",\"campusX\",sep =\"-\")"
      ],
      "metadata": {
        "colab": {
          "base_uri": "https://localhost:8080/"
        },
        "id": "H0uX4Rhzrmzs",
        "outputId": "3af7de00-79f0-4f51-9950-c98387df45a0"
      },
      "execution_count": 1,
      "outputs": [
        {
          "output_type": "stream",
          "name": "stdout",
          "text": [
            "Data-Science-Mentorship-Program-started-By-campusX\n"
          ]
        }
      ]
    },
    {
      "cell_type": "markdown",
      "source": [
        "Q2:- Write a program that will convert celsius value to fahrenheit."
      ],
      "metadata": {
        "id": "g5e1qBs-rxSw"
      }
    },
    {
      "cell_type": "code",
      "source": [
        "#take the input (temp value ) from the user.\n",
        "temp_val = int(input(\"enter the temp value\"))\n",
        "#convert the input taken from the user to fahrenheit\n",
        "fah_val = ((temp_val*9/5)+32)\n",
        "#print the result\n",
        "print(fah_val)"
      ],
      "metadata": {
        "colab": {
          "base_uri": "https://localhost:8080/"
        },
        "id": "WIaBOwWFrrse",
        "outputId": "8d594cf4-a056-4d3a-d0d6-3304bca07bf9"
      },
      "execution_count": 6,
      "outputs": [
        {
          "output_type": "stream",
          "name": "stdout",
          "text": [
            "enter the temp value36\n",
            "96.8\n"
          ]
        }
      ]
    },
    {
      "cell_type": "markdown",
      "source": [
        "Q3:- Take 2 numbers as input from the user.Write a program to swap the numbers without using any special python syntax."
      ],
      "metadata": {
        "id": "jCaEGCbmsfZp"
      }
    },
    {
      "cell_type": "code",
      "source": [
        "a = int(input('enter the first number'))\n",
        "b = int(input('enter the second number'))\n",
        "#print before swaping\n",
        "print(\"Before swapping:\")\n",
        "print(\"a =\", a,\"b =\", b)\n",
        "#swap the number\n",
        "a, b = b, a # tuple unpacking\n",
        "#verification\n",
        "print(\"After swapping:\")\n",
        "print(\"a =\", a,\"b =\", b)\n"
      ],
      "metadata": {
        "colab": {
          "base_uri": "https://localhost:8080/"
        },
        "id": "7QBNfSqosFwt",
        "outputId": "b591a536-e526-4b81-f0b5-1cbf304b839f"
      },
      "execution_count": 14,
      "outputs": [
        {
          "output_type": "stream",
          "name": "stdout",
          "text": [
            "enter the first number4\n",
            "enter the second number5\n",
            "Before swapping:\n",
            "a = 4 b = 5\n",
            "After swapping:\n",
            "a = 5 b = 4\n"
          ]
        }
      ]
    },
    {
      "cell_type": "code",
      "source": [
        "a = 5\n",
        "b = 10\n",
        "print(\"before swaping:a=\",a,\"b=\",b)\n",
        "temp = a   # store 'a' in temp\n",
        "a = b      # assign value of 'b' to 'a'\n",
        "b = temp   # assign value of 'temp' (old 'a') to 'b'\n",
        "print(\"after swaping:a=\",a,\"b=\",b)\n",
        "\n",
        "\n"
      ],
      "metadata": {
        "colab": {
          "base_uri": "https://localhost:8080/"
        },
        "id": "qFZM1-GitFtN",
        "outputId": "e3d50e5c-f3a5-4741-a35a-cc5dbb50ea64"
      },
      "execution_count": 13,
      "outputs": [
        {
          "output_type": "stream",
          "name": "stdout",
          "text": [
            "before swaping:a= 5 b= 10\n",
            "after swaping:a= 10 b= 5\n"
          ]
        }
      ]
    },
    {
      "cell_type": "markdown",
      "source": [
        "Q4:- Write a program to find the euclidean distance between two coordinates.Take both the coordinates from the user as input."
      ],
      "metadata": {
        "id": "69v0n6w1yffz"
      }
    },
    {
      "cell_type": "code",
      "source": [
        "import math\n",
        "x1=int(input(\"enter the distance\"))\n",
        "x2= int(input(\"enter the distance\"))\n",
        "y1=int(input(\"enter the distance\"))\n",
        "y2= int(input(\"enter the distance\"))\n",
        "euc_dist = math.sqrt((x2-x1)**2+(y2-y1)**2)\n",
        "print(euc_dist)\n",
        "\n"
      ],
      "metadata": {
        "colab": {
          "base_uri": "https://localhost:8080/"
        },
        "id": "H-cip003zywX",
        "outputId": "cb905b88-35fa-4fe8-c0e1-6d9d17072e89"
      },
      "execution_count": 22,
      "outputs": [
        {
          "output_type": "stream",
          "name": "stdout",
          "text": [
            "enter the distance43\n",
            "enter the distance21\n",
            "enter the distance43\n",
            "enter the distance32\n",
            "24.596747752497688\n"
          ]
        }
      ]
    },
    {
      "cell_type": "markdown",
      "source": [
        "Q5:- Write a program to find the simple interest when the value of principle,rate of interest and time period is provided by the user."
      ],
      "metadata": {
        "id": "idO45j5v0mus"
      }
    },
    {
      "cell_type": "code",
      "source": [
        "#taking the input from the user\n",
        "principle = int(input(\"enter the value\"))\n",
        "rate = int(input(\"enter the value\"))\n",
        "time = int(input(\"enter the value\"))\n",
        "#calculating the simple interest value by putting it into the formula\n",
        "simple_interest = (principle*rate*time)/100\n",
        "#print the simple interest value\n",
        "print(simple_interest)\n",
        "\n"
      ],
      "metadata": {
        "colab": {
          "base_uri": "https://localhost:8080/"
        },
        "id": "eJ-sPYFH0n7e",
        "outputId": "c2252930-02c9-4de2-f6b1-22ac3a841c79"
      },
      "execution_count": 23,
      "outputs": [
        {
          "output_type": "stream",
          "name": "stdout",
          "text": [
            "enter the value6000\n",
            "enter the value8\n",
            "enter the value2\n",
            "960.0\n"
          ]
        }
      ]
    },
    {
      "cell_type": "markdown",
      "source": [
        "Q6:- Write a program that will tell the number of dogs and chicken are there when the user will provide the value of total heads and legs.\n",
        "For example: Input: heads -> 4 legs -> 12\n",
        "Output: dogs -> 2 chicken -> 2"
      ],
      "metadata": {
        "id": "bH3hkMZ92qVY"
      }
    },
    {
      "cell_type": "code",
      "source": [
        "#taking the input from the user\n",
        "_heads_count = int(input(\"enter the number of heads\"))\n",
        "_legs_count  = int(input(\"enter the number of legs\"))\n",
        "#solving the logic\n",
        "#dogs + chicken = heads\n",
        "#4dogs +2 chicken = legs\n",
        "#solving the equation\n",
        "# no of dogs = (legs - 2heads)/2\n",
        "#no of chicken = no of heads - no of dogs\n",
        "no_of_dogs = (_legs_count-2*_heads_count)/2\n",
        "no_of_chicken = _heads_count - no_of_dogs\n",
        "print(\"no_of_dogs\",no_of_dogs)\n",
        "print(\"no_of_chicken\",no_of_chicken)\n"
      ],
      "metadata": {
        "colab": {
          "base_uri": "https://localhost:8080/"
        },
        "id": "vjkeo-nn2uoA",
        "outputId": "569ea9e1-4b79-489e-ab4a-44f066747df4"
      },
      "execution_count": 27,
      "outputs": [
        {
          "output_type": "stream",
          "name": "stdout",
          "text": [
            "enter the number of heads4\n",
            "enter the number of legs12\n",
            "no_of_dogs 2.0\n",
            "no_of_chicken 2.0\n"
          ]
        }
      ]
    },
    {
      "cell_type": "markdown",
      "source": [
        "Q7:- Write a program to find the sum of squares of first n natural numbers where n will be provided by the user.1\n",
        "\n"
      ],
      "metadata": {
        "id": "s6Zsq5bI5R32"
      }
    },
    {
      "cell_type": "code",
      "source": [
        "n = int(input(\"enter the number\"))\n",
        "sum_of_squares = (n*(n+1)*(2*n+1))/6\n",
        "print(sum_of_squares)"
      ],
      "metadata": {
        "colab": {
          "base_uri": "https://localhost:8080/"
        },
        "id": "PkqQFS4v5Wb9",
        "outputId": "1200dfea-0518-4fbd-e331-4924005d55d9"
      },
      "execution_count": 28,
      "outputs": [
        {
          "output_type": "stream",
          "name": "stdout",
          "text": [
            "enter the number4\n",
            "30.0\n"
          ]
        }
      ]
    },
    {
      "cell_type": "markdown",
      "source": [
        "Q8:- Given the first 2 terms of an Arithmetic Series.Find the Nth term of the series. Assume all inputs are provided by the user."
      ],
      "metadata": {
        "id": "izdhrSXa5Ykm"
      }
    },
    {
      "cell_type": "code",
      "source": [
        "a = int(input(\"enter the 1st number\"))\n",
        "b = int(input(\"enter the 2nd number\"))\n",
        "n = int(input(\"enter number of terms needed\"))\n",
        "d = b-a\n",
        "sum_of_nth_term = a+(n-1)*d\n",
        "print(sum_of_nth_term)\n"
      ],
      "metadata": {
        "colab": {
          "base_uri": "https://localhost:8080/"
        },
        "id": "ssGa082p5ZU_",
        "outputId": "b5b1f16d-67bf-49fe-a2ee-bc699d7ca956"
      },
      "execution_count": 31,
      "outputs": [
        {
          "output_type": "stream",
          "name": "stdout",
          "text": [
            "enter the 1st number4\n",
            "enter the 2nd number6\n",
            "enter number of terms needed10\n",
            "22\n"
          ]
        }
      ]
    },
    {
      "cell_type": "markdown",
      "source": [
        "Q9:- Given 2 fractions, find the sum of those 2 fractions.Take the numerator and denominator values of the fractions from the user."
      ],
      "metadata": {
        "id": "I5EGyl5l5bhN"
      }
    },
    {
      "cell_type": "code",
      "source": [
        "#taking the user input\n",
        "num_1 = int(input(\"enter the value\"))\n",
        "deno_1 = int(input(\"enter the value\"))\n",
        "num_2 = int(input(\"enter the value\"))\n",
        "deno_2 = int(input(\"enter the value\"))\n",
        "#solving the logic\n",
        "frac_1 = num_1/deno_1\n",
        "frac_2 = num_2/deno_2\n",
        "sum_frac = frac_1+frac_2\n",
        "#print the result\n",
        "print(sum_frac)"
      ],
      "metadata": {
        "colab": {
          "base_uri": "https://localhost:8080/"
        },
        "id": "xD5-QcCb5cWQ",
        "outputId": "9ea88aa8-700e-4070-b0b1-4db184adf947"
      },
      "execution_count": 32,
      "outputs": [
        {
          "output_type": "stream",
          "name": "stdout",
          "text": [
            "enter the value2\n",
            "enter the value3\n",
            "enter the value3\n",
            "enter the value3\n",
            "1.6666666666666665\n"
          ]
        }
      ]
    },
    {
      "cell_type": "markdown",
      "source": [
        "Q10:- Given the height, width and breadth of a milk tank, you have to find out how many glasses of milk can be obtained? Assume all the inputs are provided by the user.\n",
        "Input:\n",
        "Dimensions of the milk tank\n",
        "H = 20cm, L = 20cm, B = 20cm\n",
        "\n",
        "Dimensions of the glass\n",
        "h = 3cm, r = 1cm\n",
        "\n",
        "\n",
        "\n"
      ],
      "metadata": {
        "id": "GAYyVtUr5ejq"
      }
    },
    {
      "cell_type": "code",
      "source": [
        "#taking the user input\n",
        "#dimensions of the milk tank\n",
        "h_of_milk_tank = int(input(\"enter the value\"))\n",
        "l_of_milk_tank = int(input(\"enter the value\"))\n",
        "b_of_milk_tank = int (input(\"enter the value\"))\n",
        "vol_of_milk_tank =h_of_milk_tank*l_of_milk_tank*b_of_milk_tank\n",
        "#dimension of the glass\n",
        "h_glass = int(input('enter the value'))\n",
        "r_glass = int(input(\"enter the value\"))\n",
        "vol_glass = (h_glass *(r_glass)**2)*3.14\n",
        "no_of_glass = vol_of_milk_tank/vol_glass\n",
        "print(no_of_glass)\n"
      ],
      "metadata": {
        "colab": {
          "base_uri": "https://localhost:8080/"
        },
        "id": "s0fBtfe95fSH",
        "outputId": "beb6031e-242c-4b01-832c-835782b18a95"
      },
      "execution_count": 37,
      "outputs": [
        {
          "output_type": "stream",
          "name": "stdout",
          "text": [
            "enter the value20\n",
            "enter the value20\n",
            "enter the value20\n",
            "enter the value3\n",
            "enter the value1\n",
            "849.2569002123142\n"
          ]
        }
      ]
    },
    {
      "cell_type": "code",
      "source": [],
      "metadata": {
        "id": "ZO2oZ-EEFx8a"
      },
      "execution_count": null,
      "outputs": []
    }
  ]
}